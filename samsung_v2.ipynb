{
  "nbformat": 4,
  "nbformat_minor": 0,
  "metadata": {
    "colab": {
      "provenance": [],
      "collapsed_sections": [],
      "machine_shape": "hm",
      "mount_file_id": "1wjnXAl-eJCzuzUp8vAlSnO9LV0gjms3b",
      "authorship_tag": "ABX9TyNV4uKRW7p99JO0wfRHvaQa",
      "include_colab_link": true
    },
    "kernelspec": {
      "name": "python3",
      "display_name": "Python 3"
    },
    "language_info": {
      "name": "python"
    },
    "accelerator": "GPU",
    "gpuClass": "premium"
  },
  "cells": [
    {
      "cell_type": "markdown",
      "metadata": {
        "id": "view-in-github",
        "colab_type": "text"
      },
      "source": [
        "<a href=\"https://colab.research.google.com/github/moutasemalakkad/Biodiversity_dashboard/blob/master/samsung_v2.ipynb\" target=\"_parent\"><img src=\"https://colab.research.google.com/assets/colab-badge.svg\" alt=\"Open In Colab\"/></a>"
      ]
    },
    {
      "cell_type": "code",
      "execution_count": null,
      "metadata": {
        "id": "b86Me4s4cgVc"
      },
      "outputs": [],
      "source": [
        "# !pip install kaggle"
      ]
    },
    {
      "cell_type": "code",
      "source": [
        "# to download directlt from Kaggle\n",
        "\n",
        "# !pip install kaggle\n",
        "# ! mkdir ~/.kaggle\n",
        "# ! cp /content/drive/MyDrive/Samsung/kaggle.json ~/.kaggle/kaggle.json\n",
        "# ! chmod 600 ~/.kaggle/kaggle.json\n",
        "# ! kaggle datasets download -d paultimothymooney/kermany2018\n",
        "# ! unzip kermany2018.zip"
      ],
      "metadata": {
        "id": "JQeC2TkXdytQ"
      },
      "execution_count": null,
      "outputs": []
    },
    {
      "cell_type": "code",
      "source": [
        "# to get from Drive\n",
        "\n",
        "! cp /content/drive/MyDrive/Samsung/retina_data.zip .\n",
        "! unzip ./retina_data.zip"
      ],
      "metadata": {
        "id": "9R2kFu5AaW7t"
      },
      "execution_count": null,
      "outputs": []
    },
    {
      "cell_type": "code",
      "execution_count": null,
      "metadata": {
        "id": "23TOba33L4qf",
        "colab": {
          "base_uri": "https://localhost:8080/"
        },
        "outputId": "4f49d4d6-3524-4d80-bee7-af3a77d23861"
      },
      "outputs": [
        {
          "output_type": "stream",
          "name": "stdout",
          "text": [
            "Sat Oct 22 21:37:18 2022       \n",
            "+-----------------------------------------------------------------------------+\n",
            "| NVIDIA-SMI 460.32.03    Driver Version: 460.32.03    CUDA Version: 11.2     |\n",
            "|-------------------------------+----------------------+----------------------+\n",
            "| GPU  Name        Persistence-M| Bus-Id        Disp.A | Volatile Uncorr. ECC |\n",
            "| Fan  Temp  Perf  Pwr:Usage/Cap|         Memory-Usage | GPU-Util  Compute M. |\n",
            "|                               |                      |               MIG M. |\n",
            "|===============================+======================+======================|\n",
            "|   0  Tesla T4            Off  | 00000000:00:04.0 Off |                    0 |\n",
            "| N/A   41C    P8     9W /  70W |      0MiB / 15109MiB |      0%      Default |\n",
            "|                               |                      |                  N/A |\n",
            "+-------------------------------+----------------------+----------------------+\n",
            "                                                                               \n",
            "+-----------------------------------------------------------------------------+\n",
            "| Processes:                                                                  |\n",
            "|  GPU   GI   CI        PID   Type   Process name                  GPU Memory |\n",
            "|        ID   ID                                                   Usage      |\n",
            "|=============================================================================|\n",
            "|  No running processes found                                                 |\n",
            "+-----------------------------------------------------------------------------+\n"
          ]
        }
      ],
      "source": [
        "gpu_info = !nvidia-smi\n",
        "gpu_info = '\\n'.join(gpu_info)\n",
        "if gpu_info.find('failed') >= 0:\n",
        "  print('Not connected to a GPU')\n",
        "else:\n",
        "  print(gpu_info)"
      ]
    },
    {
      "cell_type": "code",
      "source": [
        "from psutil import virtual_memory\n",
        "ram_gb = virtual_memory().total / 1e9\n",
        "print('Your runtime has {:.1f} gigabytes of available RAM\\n'.format(ram_gb))\n",
        "\n",
        "if ram_gb < 20:\n",
        "  print('Not using a high-RAM runtime')\n",
        "else:\n",
        "  print('You are using a high-RAM runtime!')"
      ],
      "metadata": {
        "colab": {
          "base_uri": "https://localhost:8080/"
        },
        "id": "qs0Cq7ciursI",
        "outputId": "2bf7311a-d070-455d-953c-2c0898bf92a3"
      },
      "execution_count": null,
      "outputs": [
        {
          "output_type": "stream",
          "name": "stdout",
          "text": [
            "Your runtime has 27.3 gigabytes of available RAM\n",
            "\n",
            "You are using a high-RAM runtime!\n"
          ]
        }
      ]
    },
    {
      "cell_type": "code",
      "source": [
        "import numpy as np\n",
        "import os\n",
        "import PIL\n",
        "import PIL.Image\n",
        "import tensorflow as tf\n",
        "import tensorflow_datasets as tfds\n",
        "\n",
        "import keras \n",
        "from keras import layers\n",
        "from keras.models import Sequential\n",
        "print(tf.__version__)"
      ],
      "metadata": {
        "colab": {
          "base_uri": "https://localhost:8080/"
        },
        "id": "_opYlr88d_El",
        "outputId": "fb4e6b51-ab98-4164-b36c-ee57288e875d"
      },
      "execution_count": null,
      "outputs": [
        {
          "output_type": "stream",
          "name": "stdout",
          "text": [
            "2.9.2\n"
          ]
        }
      ]
    },
    {
      "cell_type": "code",
      "source": [
        "from tensorflow.keras.preprocessing.image import ImageDataGenerator"
      ],
      "metadata": {
        "id": "f7Dcp3pXtqNm"
      },
      "execution_count": null,
      "outputs": []
    },
    {
      "cell_type": "code",
      "source": [
        "# get image shape\n",
        "\n",
        "import imageio as iio\n",
        " \n",
        "# read an image\n",
        "img = iio.imread('/content/data/test/CNV/CNV-1016042-1.jpeg')\n",
        "input_shape = img.shape\n",
        "input_shape"
      ],
      "metadata": {
        "colab": {
          "base_uri": "https://localhost:8080/"
        },
        "id": "8kJUTKvn16Wi",
        "outputId": "8d66ccf4-5f4b-44b7-e656-bf4b1d86eaae"
      },
      "execution_count": null,
      "outputs": [
        {
          "output_type": "execute_result",
          "data": {
            "text/plain": [
              "(496, 512)"
            ]
          },
          "metadata": {},
          "execution_count": 30
        }
      ]
    },
    {
      "cell_type": "code",
      "source": [
        "batch_size = 32\n",
        "img_height = 512\n",
        "img_width = 496"
      ],
      "metadata": {
        "id": "bfvZlNcmiumy"
      },
      "execution_count": 87,
      "outputs": []
    },
    {
      "cell_type": "code",
      "source": [
        "# coursera \n",
        "train_dir = '/content/data/train'\n",
        "print(\"Train Directory --> \", os.listdir(train_dir))\n",
        "\n",
        "train_datagen = ImageDataGenerator(rescale=1./255)\n",
        "\n",
        "train_data_generator = train_datagen.flow_from_directory(\n",
        "    train_dir,\n",
        "    target_size=(img_height, img_width),\n",
        "    batch_size=128,\n",
        "    class_mode='categorical'\n",
        ") \n",
        "\n",
        "train_data_generator.image_shape"
      ],
      "metadata": {
        "colab": {
          "base_uri": "https://localhost:8080/"
        },
        "id": "DD7UXxBsuNu5",
        "outputId": "556a2dad-19e8-4fb7-cf3e-456b1268906c"
      },
      "execution_count": 115,
      "outputs": [
        {
          "output_type": "stream",
          "name": "stdout",
          "text": [
            "Train Directory -->  ['NORMAL', 'DRUSEN', 'CNV', 'DME']\n",
            "Found 83484 images belonging to 4 classes.\n"
          ]
        },
        {
          "output_type": "execute_result",
          "data": {
            "text/plain": [
              "(512, 496, 3)"
            ]
          },
          "metadata": {},
          "execution_count": 115
        }
      ]
    },
    {
      "cell_type": "code",
      "source": [
        "test_dir = '/content/data/test'\n",
        "print(\"test Directory --> \", os.listdir(test_dir))\n",
        "\n",
        "test_datagen = ImageDataGenerator(rescale=1./255)\n",
        "\n",
        "test_data_generator = test_datagen.flow_from_directory(\n",
        "    test_dir,\n",
        "    target_size=(img_height, img_width),\n",
        "    batch_size=128,\n",
        "    class_mode='categorical'\n",
        ") \n",
        "test_data_generator.image_shape"
      ],
      "metadata": {
        "colab": {
          "base_uri": "https://localhost:8080/"
        },
        "id": "74C91Fw0ndBn",
        "outputId": "f4ede78f-dc02-40c7-81f9-455578be150f"
      },
      "execution_count": 116,
      "outputs": [
        {
          "output_type": "stream",
          "name": "stdout",
          "text": [
            "test Directory -->  ['NORMAL', 'DRUSEN', 'CNV', 'DME']\n",
            "Found 968 images belonging to 4 classes.\n"
          ]
        },
        {
          "output_type": "execute_result",
          "data": {
            "text/plain": [
              "(512, 496, 3)"
            ]
          },
          "metadata": {},
          "execution_count": 116
        }
      ]
    },
    {
      "cell_type": "code",
      "source": [
        "val_dir = '/content/data/val'\n",
        "print(\"val Directory --> \", os.listdir(val_dir))\n",
        "\n",
        "val_datagen = ImageDataGenerator(rescale=1./255)\n",
        "\n",
        "val_data_generator = val_datagen.flow_from_directory(\n",
        "    val_dir,\n",
        "    target_size=(img_height, img_width),\n",
        "    class_mode='categorical'\n",
        ") \n",
        "\n",
        "val_data_generator.image_shape"
      ],
      "metadata": {
        "colab": {
          "base_uri": "https://localhost:8080/"
        },
        "id": "4UojfjIFqd5H",
        "outputId": "2a2bf11b-b08e-4e6e-9ff6-d33f5a95a153"
      },
      "execution_count": 133,
      "outputs": [
        {
          "output_type": "stream",
          "name": "stdout",
          "text": [
            "val Directory -->  ['NORMAL', 'DRUSEN', 'CNV', 'DME']\n",
            "Found 32 images belonging to 4 classes.\n"
          ]
        },
        {
          "output_type": "execute_result",
          "data": {
            "text/plain": [
              "(512, 496, 3)"
            ]
          },
          "metadata": {},
          "execution_count": 133
        }
      ]
    },
    {
      "cell_type": "code",
      "source": [
        "class_names = train_data_generator.classes\n",
        "print(set(class_names))"
      ],
      "metadata": {
        "colab": {
          "base_uri": "https://localhost:8080/"
        },
        "id": "15nHPHJP3rOO",
        "outputId": "6b81bd01-c445-4f8e-dd90-33e70d301668"
      },
      "execution_count": 70,
      "outputs": [
        {
          "output_type": "stream",
          "name": "stdout",
          "text": [
            "{0, 1, 2, 3}\n"
          ]
        }
      ]
    },
    {
      "cell_type": "code",
      "source": [
        "# import matplotlib.pyplot as plt\n",
        "\n",
        "# plt.figure(figsize=(10, 10))\n",
        "# for images, labels in train_data_generator.next():\n",
        "#   for i in range(9):\n",
        "#     ax = plt.subplot(3, 3, i + 1)\n",
        "#     plt.imshow(images[i].numpy().astype(\"uint8\"))\n",
        "#     plt.title(class_names[labels[i]])\n",
        "#     plt.axis(\"off\")"
      ],
      "metadata": {
        "id": "jUPSAFkj1v94"
      },
      "execution_count": 119,
      "outputs": []
    },
    {
      "cell_type": "code",
      "source": [
        "# AUTOTUNE = tf.data.AUTOTUNE\n",
        "\n",
        "# train_ds = train_ds.cache().shuffle(1000).prefetch(buffer_size=AUTOTUNE)\n",
        "# val_ds = val_ds.cache().prefetch(buffer_size=AUTOTUNE)"
      ],
      "metadata": {
        "id": "QRuwZ5LLVhBb"
      },
      "execution_count": 120,
      "outputs": []
    },
    {
      "cell_type": "code",
      "source": [
        "num_classes = len(set(class_names))\n",
        "print(num_classes)\n",
        "model = Sequential([\n",
        "  layers.Rescaling(1./255, input_shape=(img_height, img_width, 3)), #changed channel from 3 to 1\n",
        "\n",
        "  layers.Conv2D(16, 3, padding='same', activation='relu'),\n",
        "  layers.MaxPooling2D(),\n",
        "\n",
        "  layers.Conv2D(32, 3, padding='same', activation='relu'),\n",
        "  layers.MaxPooling2D(),\n",
        "  \n",
        "  layers.Conv2D(64, 3, padding='same', activation='relu'),\n",
        "  layers.MaxPooling2D(),\n",
        "\n",
        "  layers.Conv2D(128, 3, padding='same', activation='relu'),\n",
        "  layers.MaxPooling2D(),\n",
        "\n",
        "  layers.Flatten(),\n",
        "  layers.Dense(128, activation='relu'),\n",
        "  layers.Dense(num_classes)\n",
        "])"
      ],
      "metadata": {
        "id": "3OtTuGqDWr_6",
        "colab": {
          "base_uri": "https://localhost:8080/"
        },
        "outputId": "89398827-1481-4141-d567-d19b2cb3c0cd"
      },
      "execution_count": 139,
      "outputs": [
        {
          "output_type": "stream",
          "name": "stdout",
          "text": [
            "4\n"
          ]
        }
      ]
    },
    {
      "cell_type": "code",
      "source": [
        "model.compile(\n",
        "  optimizer='adam',\n",
        "  loss=tf.keras.losses.CategoricalCrossentropy(from_logits=True),\n",
        "  metrics=['accuracy'])"
      ],
      "metadata": {
        "id": "-0h1B0oAW2rB"
      },
      "execution_count": 140,
      "outputs": []
    },
    {
      "cell_type": "code",
      "source": [
        "model.summary()"
      ],
      "metadata": {
        "colab": {
          "base_uri": "https://localhost:8080/"
        },
        "id": "Mu3ZvCUKW6Fs",
        "outputId": "9cbc5102-13f4-4fed-d34a-dafe2790d767"
      },
      "execution_count": 141,
      "outputs": [
        {
          "output_type": "stream",
          "name": "stdout",
          "text": [
            "Model: \"sequential_10\"\n",
            "_________________________________________________________________\n",
            " Layer (type)                Output Shape              Param #   \n",
            "=================================================================\n",
            " rescaling_11 (Rescaling)    (None, 512, 496, 3)       0         \n",
            "                                                                 \n",
            " conv2d_34 (Conv2D)          (None, 512, 496, 16)      448       \n",
            "                                                                 \n",
            " max_pooling2d_33 (MaxPoolin  (None, 256, 248, 16)     0         \n",
            " g2D)                                                            \n",
            "                                                                 \n",
            " conv2d_35 (Conv2D)          (None, 256, 248, 32)      4640      \n",
            "                                                                 \n",
            " max_pooling2d_34 (MaxPoolin  (None, 128, 124, 32)     0         \n",
            " g2D)                                                            \n",
            "                                                                 \n",
            " conv2d_36 (Conv2D)          (None, 128, 124, 64)      18496     \n",
            "                                                                 \n",
            " max_pooling2d_35 (MaxPoolin  (None, 64, 62, 64)       0         \n",
            " g2D)                                                            \n",
            "                                                                 \n",
            " conv2d_37 (Conv2D)          (None, 64, 62, 128)       73856     \n",
            "                                                                 \n",
            " max_pooling2d_36 (MaxPoolin  (None, 32, 31, 128)      0         \n",
            " g2D)                                                            \n",
            "                                                                 \n",
            " flatten_10 (Flatten)        (None, 126976)            0         \n",
            "                                                                 \n",
            " dense_20 (Dense)            (None, 128)               16253056  \n",
            "                                                                 \n",
            " dense_21 (Dense)            (None, 4)                 516       \n",
            "                                                                 \n",
            "=================================================================\n",
            "Total params: 16,351,012\n",
            "Trainable params: 16,351,012\n",
            "Non-trainable params: 0\n",
            "_________________________________________________________________\n"
          ]
        }
      ]
    },
    {
      "cell_type": "code",
      "source": [
        "checkpoint_filepath = './checkpoint'\n",
        "model_checkpoint_callback = tf.keras.callbacks.ModelCheckpoint(\n",
        "    filepath=checkpoint_filepath,\n",
        "    save_weights_only=True,\n",
        "    monitor='val_accuracy',\n",
        "    mode='max',\n",
        "    save_best_only=True)"
      ],
      "metadata": {
        "id": "S2P2-Rjdxo63"
      },
      "execution_count": 143,
      "outputs": []
    },
    {
      "cell_type": "code",
      "source": [
        "class myCallback(keras.callbacks.Callback):\n",
        "        # Define the correct function signature for on_epoch_end\n",
        "        def on_epoch_end(self, epoch, logs={}):\n",
        "            if logs.get('accuracy') is not None and logs.get('accuracy') > 0.99:\n",
        "                print(\"\\nReached 99% accuracy so cancelling training!\") \n",
        "                \n",
        "                # Stop training once the above condition is met\n",
        "                self.model.stop_training = True\n",
        "\n",
        "model_accuracy_callback = myCallback()"
      ],
      "metadata": {
        "id": "l13IDWn17xhO"
      },
      "execution_count": 145,
      "outputs": []
    },
    {
      "cell_type": "code",
      "source": [
        "epochs=5\n",
        "history = model.fit(\n",
        "  train_data_generator,\n",
        "  validation_data=val_data_generator,\n",
        "  epochs=epochs,\n",
        "  callbacks=[model_checkpoint_callback, model_accuracy_callback]\n",
        ")"
      ],
      "metadata": {
        "id": "lTPJD_O6W6w7",
        "colab": {
          "base_uri": "https://localhost:8080/"
        },
        "outputId": "fc1d7b52-9bb4-4a25-c7bf-cd0de23dd24e"
      },
      "execution_count": null,
      "outputs": [
        {
          "output_type": "stream",
          "name": "stdout",
          "text": [
            "Epoch 1/5\n",
            "653/653 [==============================] - 507s 773ms/step - loss: 1.2337 - accuracy: 0.4451 - val_loss: 1.5583 - val_accuracy: 0.2500\n",
            "Epoch 2/5\n",
            "653/653 [==============================] - 510s 780ms/step - loss: 1.2315 - accuracy: 0.4457 - val_loss: 1.6379 - val_accuracy: 0.2500\n",
            "Epoch 3/5\n",
            "298/653 [============>.................] - ETA: 4:36 - loss: 1.2307 - accuracy: 0.4444"
          ]
        }
      ]
    },
    {
      "cell_type": "code",
      "source": [
        "# You can also evaluate or predict on a dataset.\n",
        "print(\"Evaluate\")\n",
        "result = model.evaluate(test_ds)\n",
        "dict(zip(model.metrics_names, result))"
      ],
      "metadata": {
        "colab": {
          "base_uri": "https://localhost:8080/"
        },
        "id": "dKvjfs_t1eak",
        "outputId": "f8c08231-5233-46d3-e1df-17cbdf4dd827"
      },
      "execution_count": null,
      "outputs": [
        {
          "output_type": "stream",
          "name": "stdout",
          "text": [
            "Evaluate\n",
            "31/31 [==============================] - 3s 91ms/step - loss: 0.8369 - accuracy: 0.6880\n"
          ]
        },
        {
          "output_type": "execute_result",
          "data": {
            "text/plain": [
              "{'loss': 0.836898148059845, 'accuracy': 0.6880165338516235}"
            ]
          },
          "metadata": {},
          "execution_count": 43
        }
      ]
    },
    {
      "cell_type": "code",
      "source": [
        "history.history"
      ],
      "metadata": {
        "colab": {
          "base_uri": "https://localhost:8080/"
        },
        "id": "a8DgkzDhyPjh",
        "outputId": "d4091215-c200-452b-eb2f-853ecabfbb47"
      },
      "execution_count": null,
      "outputs": [
        {
          "output_type": "execute_result",
          "data": {
            "text/plain": [
              "{'loss': [0.6236635446548462],\n",
              " 'accuracy': [0.7687820196151733],\n",
              " 'val_loss': [0.8403626084327698],\n",
              " 'val_accuracy': [0.75]}"
            ]
          },
          "metadata": {},
          "execution_count": 44
        }
      ]
    },
    {
      "cell_type": "code",
      "metadata": {
        "id": "TJfpDL2xu2cV",
        "colab": {
          "base_uri": "https://localhost:8080/",
          "height": 295
        },
        "outputId": "9467c155-b39a-4c6e-f624-fb3006ef8870"
      },
      "source": [
        "# Plot the training artifacts\n",
        "\n",
        "plt.plot(history.history['loss'])\n",
        "plt.plot(history.history['val_loss'])\n",
        "plt.title('Model loss')\n",
        "plt.ylabel('loss')\n",
        "plt.xlabel('epoch')\n",
        "plt.legend(['train_loss','val_loss'], loc = 'upper right')\n",
        "plt.show()"
      ],
      "execution_count": null,
      "outputs": [
        {
          "output_type": "display_data",
          "data": {
            "text/plain": [
              "<Figure size 432x288 with 1 Axes>"
            ],
            "image/png": "[encoded data removed]"
          },
          "metadata": {
            "needs_background": "light"
          }
        }
      ]
    },
    {
      "cell_type": "code",
      "source": [
        "# add this layer to the model\n",
        "\n",
        "#normalization_layer = tf.keras.layers.Rescaling(1./255)\n",
        "\n",
        "\n",
        "\n",
        "# we can remove the resizing ayer from the code (which we have done) and add it to the mdoel\n",
        "#https://www.tensorflow.org/api_docs/python/tf/keras/layers/Resizing\n",
        "# tf.keras.layers.Resizing(\n",
        "#     height,\n",
        "#     width,\n",
        "#     interpolation='bilinear',\n",
        "#     crop_to_aspect_ratio=False,\n",
        "#     **kwargs\n",
        "# )\n",
        "keras.utils.plot_model(model, \"multi_input_and_output_model.png\", show_shapes=True)"
      ],
      "metadata": {
        "id": "Or66RmTqV5-N",
        "colab": {
          "base_uri": "https://localhost:8080/",
          "height": 1000
        },
        "outputId": "6b54b4d5-b668-495b-e997-5f6ba23daf49"
      },
      "execution_count": null,
      "outputs": [
        {
          "output_type": "execute_result",
          "data": {
            "image/png": "[encoded data removed]",
            "text/plain": [
              "<IPython.core.display.Image object>"
            ]
          },
          "metadata": {},
          "execution_count": 46
        }
      ]
    },
    {
      "cell_type": "code",
      "source": [],
      "metadata": {
        "id": "DYqSVWMrZt-u"
      },
      "execution_count": null,
      "outputs": []
    },
    {
      "cell_type": "code",
      "source": [],
      "metadata": {
        "id": "Crz8L4I5bDLs"
      },
      "execution_count": null,
      "outputs": []
    }
  ]
}